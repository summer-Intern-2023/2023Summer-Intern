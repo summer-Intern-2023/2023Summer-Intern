{
 "cells": [
  {
   "cell_type": "code",
   "execution_count": 3,
   "metadata": {},
   "outputs": [],
   "source": [
    "#Assignment10.2\n",
    "name = input(\"Enter file:\")\n",
    "if len(name) < 1:\n",
    "    name = \"mbox-short.txt\"\n",
    "handle = open(\"src/\" + name)\n",
    "count_dict = dict()\n",
    "for line in handle:\n",
    "    ine = line.strip()\n",
    "    if not line.startswith(\"From \"):\n",
    "        continue\n",
    "    words = line.split()\n",
    "    time = words[5].split(\":\")\n",
    "    hours = time[0]\n",
    "    count_dict[hours] = count_dict.get(hours,0) + 1\n",
    "        \n",
    "count_list = sorted([(k,v) for k,v in count_dict.items()])\n",
    "\n",
    "for k,v in count_list:\n",
    "    print(k,v)"
   ]
  }
 ],
 "metadata": {
  "kernelspec": {
   "display_name": "Python 3",
   "language": "python",
   "name": "python3"
  },
  "language_info": {
   "codemirror_mode": {
    "name": "ipython",
    "version": 3
   },
   "file_extension": ".py",
   "mimetype": "text/x-python",
   "name": "python",
   "nbconvert_exporter": "python",
   "pygments_lexer": "ipython3",
   "version": "3.10.11"
  },
  "orig_nbformat": 4
 },
 "nbformat": 4,
 "nbformat_minor": 2
}
