{
 "cells": [
  {
   "cell_type": "code",
   "execution_count": null,
   "metadata": {},
   "outputs": [],
   "source": [
    "#Assignment 3.1\n",
    "hrs = input(\"Enter Hours:\")\n",
    "h = float(hrs)\n",
    "rate = input(\"Enter the rate:\")\n",
    "r = float(rate)\n",
    "if h < 40:\n",
    "    Pay = h * r\n",
    "else:\n",
    "    Pay = r * 40 + (h-40) * 1.5 * r\n",
    "print(Pay)"
   ]
  },
  {
   "cell_type": "code",
   "execution_count": null,
   "metadata": {},
   "outputs": [],
   "source": [
    "#Assignment3.3\n",
    "score = input(\"Enter Score: \")\n",
    "s = float(score)\n",
    "if s >= 0.9:\n",
    "    print('A')\n",
    "elif s >= 0.8:\n",
    "    print('B')\n",
    "elif s >= 0.7:\n",
    "    print('C')\n",
    "elif s >= 0.6:\n",
    "    print('D')\n",
    "elif s < 0.6:\n",
    "    print('F')\n",
    "else:\n",
    "    print(\"Sorry, it's out of range\")"
   ]
  }
 ],
 "metadata": {
  "language_info": {
   "name": "python"
  },
  "orig_nbformat": 4
 },
 "nbformat": 4,
 "nbformat_minor": 2
}
