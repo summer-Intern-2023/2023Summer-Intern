{
 "cells": [
  {
   "cell_type": "code",
   "execution_count": null,
   "metadata": {},
   "outputs": [],
   "source": [
    "#Asssignment4.6\n",
    "def computepay(h, r):\n",
    "    if h <= 0:\n",
    "        p = r * h\n",
    "    else:\n",
    "        p = r * 40 + (r * 1.5 * (h-40))\n",
    "    print(\"Pay\",p)\n",
    "    return p\n",
    "try:\n",
    "    inp = input(\"Enter Hours:\")\n",
    "    hours=float(inp)\n",
    "    inp= input(\"Enter Rate:\")\n",
    "    rate = float(inp)\n",
    "except:\n",
    "    print(\"Error, please enter numeric input.\")\n",
    "    quit()\n",
    "\n",
    "\n",
    "pay = computepay(hours,rate)\n"
   ]
  }
 ],
 "metadata": {
  "language_info": {
   "name": "python"
  },
  "orig_nbformat": 4
 },
 "nbformat": 4,
 "nbformat_minor": 2
}
