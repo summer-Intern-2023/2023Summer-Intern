{
 "cells": [
  {
   "cell_type": "code",
   "execution_count": 5,
   "metadata": {},
   "outputs": [
    {
     "name": "stdout",
     "output_type": "stream",
     "text": [
      "Invalid input\n",
      "Maximum is 10\n",
      "Minimum is 2\n"
     ]
    }
   ],
   "source": [
    "#Assignment 5.4\n",
    "largest = None\n",
    "smallest = None\n",
    "while True:\n",
    "    num_s = input(\"Enter a number: \")\n",
    "    num_n = 0\n",
    "        \n",
    "    if num_s == \"done\":\n",
    "        break\n",
    "        \n",
    "    try:\n",
    "       num_n = int(num_s)\n",
    "    except:\n",
    "        print(\"Invalid input\")\n",
    "        continue\n",
    "\n",
    "    if largest is None or num_n > largest:\n",
    "        largest = num_n\n",
    "\n",
    "    if smallest is None or num_n < smallest:\n",
    "        smallest = num_n\n",
    "\n",
    "print(\"Maximum is\", largest)\n",
    "print(\"Minimum is\", smallest)\n",
    "\n"
   ]
  }
 ],
 "metadata": {
  "kernelspec": {
   "display_name": "Python 3",
   "language": "python",
   "name": "python3"
  },
  "language_info": {
   "codemirror_mode": {
    "name": "ipython",
    "version": 3
   },
   "file_extension": ".py",
   "mimetype": "text/x-python",
   "name": "python",
   "nbconvert_exporter": "python",
   "pygments_lexer": "ipython3",
   "version": "3.10.11"
  },
  "orig_nbformat": 4
 },
 "nbformat": 4,
 "nbformat_minor": 2
}
