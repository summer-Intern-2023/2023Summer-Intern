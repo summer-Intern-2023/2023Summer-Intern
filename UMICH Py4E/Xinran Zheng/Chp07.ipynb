{
 "cells": [
  {
   "cell_type": "code",
   "execution_count": null,
   "metadata": {},
   "outputs": [],
   "source": [
    "#Assignment 7.1\n",
    "fname = input(\"Enter file name: \")\n",
    "fh = open(fname)\n",
    "inp = fh.read()\n",
    "line = inp.upper()\n",
    "print(line.rstrip())"
   ]
  },
  {
   "cell_type": "code",
   "execution_count": null,
   "metadata": {},
   "outputs": [],
   "source": [
    "#Assignment7.2\n",
    "fname = input(\"Enter file name: \")\n",
    "fh = open(fname)\n",
    "counter = 0 \n",
    "total = 0\n",
    "for line in fh:\n",
    "    if not line.startswith(\"X-DSPAM-Confidence: \"):\n",
    "        continue\n",
    "    else:\n",
    "        counter = counter + 1\n",
    "        \n",
    "        begin = line.find(\":\")\n",
    "        num = float(line[begin+2:])\n",
    "        total = total+num\n",
    "average = total/counter\n",
    "print(\"Average spam confidence:\",average)"
   ]
  }
 ],
 "metadata": {
  "language_info": {
   "name": "python"
  },
  "orig_nbformat": 4
 },
 "nbformat": 4,
 "nbformat_minor": 2
}
