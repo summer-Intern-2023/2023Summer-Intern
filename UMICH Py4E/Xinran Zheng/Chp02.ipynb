{
 "cells": [
  {
   "cell_type": "code",
   "execution_count": 3,
   "metadata": {},
   "outputs": [
    {
     "name": "stdout",
     "output_type": "stream",
     "text": [
      "Pay: 367.5\n"
     ]
    }
   ],
   "source": [
    "#Assighment 2.3\n",
    "hrs = input(\"Enter Hours:\")\n",
    "rate = input(\"Enter the rate:\")\n",
    "a = float(hrs)\n",
    "b = float(rate)\n",
    "Pay = a*b\n",
    "print(\"Pay:\" , Pay)"
   ]
  }
 ],
 "metadata": {
  "kernelspec": {
   "display_name": "Python 3",
   "language": "python",
   "name": "python3"
  },
  "language_info": {
   "codemirror_mode": {
    "name": "ipython",
    "version": 3
   },
   "file_extension": ".py",
   "mimetype": "text/x-python",
   "name": "python",
   "nbconvert_exporter": "python",
   "pygments_lexer": "ipython3",
   "version": "3.10.11"
  },
  "orig_nbformat": 4
 },
 "nbformat": 4,
 "nbformat_minor": 2
}
