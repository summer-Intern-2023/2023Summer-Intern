{
 "cells": [
  {
   "cell_type": "code",
   "execution_count": null,
   "metadata": {},
   "outputs": [],
   "source": [
    "#Assignment9.4\n",
    "name = input(\"Enter file:\")\n",
    "if len(name) < 1:\n",
    "    name = \"mbox-short.txt\"\n",
    "    \n",
    "handle = open(name)\n",
    "counts = dict()\n",
    "for line in handle:\n",
    "    line = line.rstrip()\n",
    "    if line.startswith(\"From: \"):\n",
    "        continue\n",
    "    if line.startswith(\"From \"):\n",
    "        cut = line.split()\n",
    "        person = cut[1]\n",
    "        counts[person] = counts.get(person,0) + 1\n",
    "       \n",
    "    \n",
    "maxcount = None\n",
    "maxword = None\n",
    "for person,count in counts.items():\n",
    "    if maxcount is None or count > maxcount:\n",
    "        maxcount = count\n",
    "        maxword = person\n",
    "\n",
    "print(maxword,maxcount)"
   ]
  }
 ],
 "metadata": {
  "language_info": {
   "name": "python"
  },
  "orig_nbformat": 4
 },
 "nbformat": 4,
 "nbformat_minor": 2
}
