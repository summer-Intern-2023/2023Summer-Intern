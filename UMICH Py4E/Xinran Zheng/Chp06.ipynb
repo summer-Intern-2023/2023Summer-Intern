{
 "cells": [
  {
   "cell_type": "code",
   "execution_count": null,
   "metadata": {},
   "outputs": [],
   "source": [
    "#Assignment6.5\n",
    "text = \"X-DSPAM-Confidence:    0.8475\"\n",
    "ipos = text.find(\":\")\n",
    "num = text[ipos+1:]\n",
    "value = float(num)\n",
    "print(value)"
   ]
  }
 ],
 "metadata": {
  "language_info": {
   "name": "python"
  },
  "orig_nbformat": 4
 },
 "nbformat": 4,
 "nbformat_minor": 2
}
