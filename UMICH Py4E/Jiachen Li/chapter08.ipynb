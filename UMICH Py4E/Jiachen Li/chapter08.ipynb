{
 "cells": [
  {
   "cell_type": "code",
   "execution_count": 3,
   "metadata": {},
   "outputs": [
    {
     "name": "stdout",
     "output_type": "stream",
     "text": [
      "['Arise', 'But', 'It', 'Juliet', 'Who', 'already', 'and', 'breaks', 'east', 'envious', 'fair', 'grief', 'is', 'kill', 'light', 'moon', 'pale', 'sick', 'soft', 'sun', 'the', 'through', 'what', 'window', 'with', 'yonder']\n"
     ]
    }
   ],
   "source": [
    "# Assignment 8.4\n",
    "file_name = input(\"Enter a file:\")\n",
    "file = open(file_name)\n",
    "words = list()\n",
    "unique_words = list()\n",
    "\n",
    "#initialize the document\n",
    "for word in file:\n",
    "    word = word.strip()\n",
    "    word = word.split(' ')\n",
    "    if word not in words:\n",
    "        words += word\n",
    "    else:\n",
    "        continue\n",
    "\n",
    "#to Deduplication\n",
    "for single_word in words:\n",
    "    if single_word not in unique_words:\n",
    "        unique_words.append(single_word)\n",
    "\n",
    "unique_words.sort()\n",
    "print(unique_words)"
   ]
  },
  {
   "cell_type": "code",
   "execution_count": 4,
   "metadata": {},
   "outputs": [
    {
     "name": "stdout",
     "output_type": "stream",
     "text": [
      "stephen.marquard@uct.ac.za\n",
      "louis@media.berkeley.edu\n",
      "zqian@umich.edu\n",
      "rjlowe@iupui.edu\n",
      "zqian@umich.edu\n",
      "rjlowe@iupui.edu\n",
      "cwen@iupui.edu\n",
      "cwen@iupui.edu\n",
      "gsilver@umich.edu\n",
      "gsilver@umich.edu\n",
      "zqian@umich.edu\n",
      "gsilver@umich.edu\n",
      "wagnermr@iupui.edu\n",
      "zqian@umich.edu\n",
      "antranig@caret.cam.ac.uk\n",
      "gopal.ramasammycook@gmail.com\n",
      "david.horwitz@uct.ac.za\n",
      "david.horwitz@uct.ac.za\n",
      "david.horwitz@uct.ac.za\n",
      "david.horwitz@uct.ac.za\n",
      "stephen.marquard@uct.ac.za\n",
      "louis@media.berkeley.edu\n",
      "louis@media.berkeley.edu\n",
      "ray@media.berkeley.edu\n",
      "cwen@iupui.edu\n",
      "cwen@iupui.edu\n",
      "cwen@iupui.edu\n",
      "There were 27 lines in the file with From as the first word\n"
     ]
    }
   ],
   "source": [
    "# Assignment 8.5\n",
    "file_name = input(\"Enter the file name:\")\n",
    "count = 0\n",
    "\n",
    "try:\n",
    "    file = open(file_name)\n",
    "    for line in file:\n",
    "        line = line.rstrip()\n",
    "        if line.startswith('From:'):\n",
    "            count += 1\n",
    "            line = line.replace('From: ','')\n",
    "            line.split()\n",
    "            print(line)\n",
    "        else:\n",
    "            continue\n",
    "    print(\"There were\",count,\"lines in the file with From as the first word\")\n",
    "except ValueError:\n",
    "    print(\"File cannot be opened:\",file_name)\n"
   ]
  }
 ],
 "metadata": {
  "kernelspec": {
   "display_name": "Python 3",
   "language": "python",
   "name": "python3"
  },
  "language_info": {
   "codemirror_mode": {
    "name": "ipython",
    "version": 3
   },
   "file_extension": ".py",
   "mimetype": "text/x-python",
   "name": "python",
   "nbconvert_exporter": "python",
   "pygments_lexer": "ipython3",
   "version": "3.11.3"
  },
  "orig_nbformat": 4
 },
 "nbformat": 4,
 "nbformat_minor": 2
}
