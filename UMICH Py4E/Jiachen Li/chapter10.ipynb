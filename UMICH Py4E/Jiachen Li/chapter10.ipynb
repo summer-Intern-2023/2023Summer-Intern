{
 "cells": [
  {
   "cell_type": "code",
   "execution_count": 7,
   "metadata": {},
   "outputs": [
    {
     "name": "stdout",
     "output_type": "stream",
     "text": [
      "04   3\n",
      "06   1\n",
      "07   1\n",
      "09   2\n",
      "10   3\n",
      "11   6\n",
      "14   1\n",
      "15   2\n",
      "16   4\n",
      "17   2\n",
      "18   1\n",
      "19   1\n"
     ]
    }
   ],
   "source": [
    "# Assginment 10.2\n",
    "\n",
    "file_name = input(\"Enter the file name:\")\n",
    "\n",
    "count = 0\n",
    "counter_hours = dict()\n",
    "\n",
    "try:\n",
    "\n",
    "    file = open(file_name)\n",
    "    for line in file:\n",
    "        line = line.rstrip()\n",
    "        if line.startswith('From '):\n",
    "            count += 1\n",
    "            line = line.replace('From ','')\n",
    "            formed_line = line.split(' ')\n",
    "            formed_line_time = formed_line[5]\n",
    "            formed_line_time = formed_line_time.split(':')\n",
    "            formed_line_time = formed_line_time[0]\n",
    "            \n",
    "            counter_hours[ formed_line_time ] = counter_hours.get( formed_line_time,0 ) + 1\n",
    "\n",
    "        else:\n",
    "            continue\n",
    "\n",
    "    lst = list()\n",
    "    for key,val in counter_hours.items():\n",
    "        tup = (key,val)\n",
    "        lst.append(tup)\n",
    "    lst = sorted(lst)\n",
    "    \n",
    "    for pairs in lst:\n",
    "        print(pairs[0], pairs[1])\n",
    "\n",
    "\n",
    "except ValueError:\n",
    "    print(\"File cannot be opened:\",file_name)"
   ]
  }
 ],
 "metadata": {
  "kernelspec": {
   "display_name": "Python 3",
   "language": "python",
   "name": "python3"
  },
  "language_info": {
   "codemirror_mode": {
    "name": "ipython",
    "version": 3
   },
   "file_extension": ".py",
   "mimetype": "text/x-python",
   "name": "python",
   "nbconvert_exporter": "python",
   "pygments_lexer": "ipython3",
   "version": "3.11.3"
  },
  "orig_nbformat": 4
 },
 "nbformat": 4,
 "nbformat_minor": 2
}
