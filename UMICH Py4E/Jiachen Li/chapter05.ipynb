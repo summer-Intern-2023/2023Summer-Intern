{
 "cells": [
  {
   "cell_type": "code",
   "execution_count": 1,
   "metadata": {},
   "outputs": [
    {
     "name": "stdout",
     "output_type": "stream",
     "text": [
      "Invalid input\n",
      "Maximum is 10\n",
      "Minimum is 2\n"
     ]
    }
   ],
   "source": [
    "# Assignment 5.2\n",
    "'''\n",
    "Write another program that prompts for a list of numbers\n",
    "as above and at the end prints out both the maximum and minimum of\n",
    "the numbers instead of the average.\n",
    "'''\n",
    "cur = 0\n",
    "squares = []\n",
    "while True:\n",
    "    cur = input(\"Enter a number:\")\n",
    "    if cur == 'done':\n",
    "        break\n",
    "    try:\n",
    "        cur = [int(cur)]\n",
    "        squares += cur\n",
    "    except ValueError:\n",
    "        print(\"Invalid input\")\n",
    "#find minimum\n",
    "cur = 0\n",
    "minnum = None\n",
    "for cur in squares:\n",
    "    if minnum is None:\n",
    "        minnum = cur\n",
    "    elif cur < minnum:\n",
    "        minnum = cur\n",
    "\n",
    "#find maximum\n",
    "cur = 0\n",
    "maxnum = -1\n",
    "for cur in squares:\n",
    "    if cur > maxnum:\n",
    "        maxnum = cur\n",
    "\n",
    "print(\"Maximum is\",maxnum)\n",
    "print(\"Minimum is\",minnum)"
   ]
  }
 ],
 "metadata": {
  "kernelspec": {
   "display_name": "Python 3",
   "language": "python",
   "name": "python3"
  },
  "language_info": {
   "codemirror_mode": {
    "name": "ipython",
    "version": 3
   },
   "file_extension": ".py",
   "mimetype": "text/x-python",
   "name": "python",
   "nbconvert_exporter": "python",
   "pygments_lexer": "ipython3",
   "version": "3.11.3"
  },
  "orig_nbformat": 4
 },
 "nbformat": 4,
 "nbformat_minor": 2
}
