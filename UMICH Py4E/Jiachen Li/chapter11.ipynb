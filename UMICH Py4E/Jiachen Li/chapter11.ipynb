{
 "cells": [
  {
   "cell_type": "code",
   "execution_count": 3,
   "metadata": {},
   "outputs": [
    {
     "name": "stdout",
     "output_type": "stream",
     "text": [
      "391508\n"
     ]
    }
   ],
   "source": [
    "import re\n",
    "\n",
    "filename = \"regex_sum_1840726.txt\"\n",
    "try:\n",
    "    file = open(filename)\n",
    "except:\n",
    "    print(\"Error to open the file\", filename)\n",
    "\n",
    "sum = 0\n",
    "for line in file :\n",
    "    linenums = re.findall('[0-9]+', line)\n",
    "    for linenum in linenums:\n",
    "        sum += int(linenum)\n",
    "\n",
    "print(sum)"
   ]
  }
 ],
 "metadata": {
  "kernelspec": {
   "display_name": "Python 3",
   "language": "python",
   "name": "python3"
  },
  "language_info": {
   "codemirror_mode": {
    "name": "ipython",
    "version": 3
   },
   "file_extension": ".py",
   "mimetype": "text/x-python",
   "name": "python",
   "nbconvert_exporter": "python",
   "pygments_lexer": "ipython3",
   "version": "3.11.3"
  },
  "orig_nbformat": 4
 },
 "nbformat": 4,
 "nbformat_minor": 2
}
