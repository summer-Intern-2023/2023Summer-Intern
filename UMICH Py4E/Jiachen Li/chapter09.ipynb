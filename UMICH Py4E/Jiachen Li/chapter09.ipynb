{
 "cells": [
  {
   "cell_type": "code",
   "execution_count": 11,
   "metadata": {},
   "outputs": [
    {
     "name": "stdout",
     "output_type": "stream",
     "text": [
      "cwen@iupui.edu 5\n"
     ]
    }
   ],
   "source": [
    "# Assignment 9,4\n",
    "file_name = input(\"Enter the file name:\")\n",
    "count = 0\n",
    "counter_day = dict()\n",
    "counter_address = dict()\n",
    "try:\n",
    "    file = open(file_name)\n",
    "    for line in file:\n",
    "        line = line.rstrip()\n",
    "        if line.startswith('From '):\n",
    "            count += 1\n",
    "            line = line.replace('From ','')\n",
    "            formed_line = line.split(' ')\n",
    "            #COUNTER_DAY[ FROM_LINE[1] ] = COUNTER_DAY.get( FROM_LINE[1],0 ) + 1\n",
    "            counter_address[ formed_line[0] ] = counter_address.get( formed_line[0],0 ) + 1\n",
    "        else:\n",
    "            continue\n",
    "    big_address = None\n",
    "    big_count = None\n",
    "    for address,count in counter_address.items():\n",
    "        if big_count is None or count > big_count:\n",
    "            big_address = address\n",
    "            big_count = count\n",
    "    \n",
    "    print(big_address, big_count)\n",
    "\n",
    "except ValueError:\n",
    "    print(\"File cannot be opened:\",file_name)"
   ]
  }
 ],
 "metadata": {
  "kernelspec": {
   "display_name": "Python 3",
   "language": "python",
   "name": "python3"
  },
  "language_info": {
   "codemirror_mode": {
    "name": "ipython",
    "version": 3
   },
   "file_extension": ".py",
   "mimetype": "text/x-python",
   "name": "python",
   "nbconvert_exporter": "python",
   "pygments_lexer": "ipython3",
   "version": "3.11.3"
  },
  "orig_nbformat": 4
 },
 "nbformat": 4,
 "nbformat_minor": 2
}
