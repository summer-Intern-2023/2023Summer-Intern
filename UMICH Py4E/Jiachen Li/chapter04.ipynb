{
 "cells": [
  {
   "cell_type": "code",
   "execution_count": 1,
   "metadata": {},
   "outputs": [
    {
     "name": "stdout",
     "output_type": "stream",
     "text": [
      "Pay 498.75\n"
     ]
    }
   ],
   "source": [
    "# Assginment 4.6\n",
    "\n",
    "#function\n",
    "def computepay( hours , rate):\n",
    "    \"\"\"this is a function to compute\"\"\"\n",
    "    try:\n",
    "        hours = float(hours)\n",
    "        rate = float(rate)\n",
    "    except ValueError:\n",
    "        print(\"Please enter a number\")\n",
    "\n",
    "    if hours > 40 :\n",
    "        pay = 40 * rate+ ( rate * 1.5 ) * ( hours - 40 )\n",
    "        return pay\n",
    "    else :\n",
    "        pay = hours * rate\n",
    "        return pay\n",
    "\n",
    "#mian\n",
    "hours = input(\"please enter hours:\\n\")\n",
    "rate = input(\"please enter rate:\\n\")\n",
    "pay = computepay(hours, rate)\n",
    "print(\"Pay\", pay)"
   ]
  }
 ],
 "metadata": {
  "kernelspec": {
   "display_name": "Python 3",
   "language": "python",
   "name": "python3"
  },
  "language_info": {
   "codemirror_mode": {
    "name": "ipython",
    "version": 3
   },
   "file_extension": ".py",
   "mimetype": "text/x-python",
   "name": "python",
   "nbconvert_exporter": "python",
   "pygments_lexer": "ipython3",
   "version": "3.11.3"
  },
  "orig_nbformat": 4
 },
 "nbformat": 4,
 "nbformat_minor": 2
}
