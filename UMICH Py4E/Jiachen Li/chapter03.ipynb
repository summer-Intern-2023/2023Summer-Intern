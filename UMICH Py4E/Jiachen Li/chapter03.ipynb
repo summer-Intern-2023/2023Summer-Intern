{
 "cells": [
  {
   "cell_type": "code",
   "execution_count": 11,
   "metadata": {},
   "outputs": [
    {
     "name": "stdout",
     "output_type": "stream",
     "text": [
      "Pay 498.75\n"
     ]
    }
   ],
   "source": [
    "# Assginment 3.1\n",
    "\n",
    "#function\n",
    "def computepay( hours , rate):\n",
    "    \"\"\"this is a function to compute\"\"\"\n",
    "    try:\n",
    "        hours = float(hours)\n",
    "        rate = float(rate)\n",
    "    except ValueError:\n",
    "        print(\"Please enter a number\")\n",
    "\n",
    "    if hours > 40 :\n",
    "        pay = 40 * rate+ ( rate * 1.5 ) * ( hours - 40 )\n",
    "        return pay\n",
    "    else :\n",
    "        pay = hours * rate\n",
    "        return pay\n",
    "\n",
    "#mian\n",
    "hours = input(\"please enter hours:\\n\")\n",
    "rate = input(\"please enter rate:\\n\")\n",
    "pay = computepay(hours, rate)\n",
    "print(\"Pay\", pay)"
   ]
  },
  {
   "cell_type": "code",
   "execution_count": 8,
   "metadata": {},
   "outputs": [
    {
     "name": "stdout",
     "output_type": "stream",
     "text": [
      "B\n"
     ]
    }
   ],
   "source": [
    "# Assginment 3.3\n",
    "score = input(\"Please enter a score:\")\n",
    "\n",
    "try:\n",
    "\n",
    "    score = float(score)\n",
    "    #print(type(score))\n",
    "    if score < 0.0 or score > 1.0:  #in python:&->and;|->or;!->not\n",
    "        print(\"Error,please enter a sroce between 0.0 to 1.0\\n\")\n",
    "    elif score >= 0.9:\n",
    "        print(\"A\")\n",
    "    elif score < 0.9 and score >= 0.8:\n",
    "        print(\"B\")\n",
    "    elif score < 0.8 and score >= 0.7:\n",
    "        print(\"C\")\n",
    "    elif score < 0.7 and score >= 0.6:\n",
    "        print(\"D\")\n",
    "    else:\n",
    "        print(\"F\")\n",
    "\n",
    "except ValueError:\n",
    "    print(\"Error,please enter a number\\n\")"
   ]
  }
 ],
 "metadata": {
  "kernelspec": {
   "display_name": "Python 3",
   "language": "python",
   "name": "python3"
  },
  "language_info": {
   "codemirror_mode": {
    "name": "ipython",
    "version": 3
   },
   "file_extension": ".py",
   "mimetype": "text/x-python",
   "name": "python",
   "nbconvert_exporter": "python",
   "pygments_lexer": "ipython3",
   "version": "3.11.3"
  },
  "orig_nbformat": 4
 },
 "nbformat": 4,
 "nbformat_minor": 2
}
